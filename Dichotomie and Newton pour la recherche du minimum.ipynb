{
 "cells": [
  {
   "cell_type": "markdown",
   "metadata": {},
   "source": [
    "# TP 2 Optimisation Bekdouche Lina Insaf:\n",
    "groupe ISI A"
   ]
  },
  {
   "cell_type": "markdown",
   "metadata": {},
   "source": [
    "- Prise en main des packages numpy et matplotlib\n",
    "- Minimisation d’une fonction d’une variable"
   ]
  },
  {
   "cell_type": "markdown",
   "metadata": {},
   "source": [
    "## *1.* Recherche du minimum d’une fonction par la méthode de dichtomie :"
   ]
  },
  {
   "cell_type": "markdown",
   "metadata": {},
   "source": [
    "### Programme de test de la recherche de minimum par dichotomie"
   ]
  },
  {
   "cell_type": "code",
   "execution_count": 1,
   "metadata": {},
   "outputs": [],
   "source": [
    "# Importation des bibliothèques numpy et pyplot\n",
    "import numpy as np\n",
    "import math \n",
    "import matplotlib.pyplot as plt"
   ]
  },
  {
   "cell_type": "code",
   "execution_count": 2,
   "metadata": {},
   "outputs": [],
   "source": [
    "#%% Fonction test n°1\n",
    "def f1(x) :\n",
    "    return (x+1)**2 + 7*np.sin(x)\n",
    "#%% Fonction test n°2\n",
    "def f2(x) :\n",
    "    return (x+1)**2 + 10*np.sin(x)"
   ]
  },
  {
   "cell_type": "code",
   "execution_count": 3,
   "metadata": {},
   "outputs": [],
   "source": [
    "# Creation de la fonction minimumDichotomie \n",
    "def minimumDichotomie(f,x_min,x_max,precision):\n",
    "    n=0\n",
    "    i=\"TRUE\"\n",
    "    borne_min= [[x_min],[f(x_min)]]\n",
    "    borne_max= [[x_max],[f(x_max)]]\n",
    "    x5=x_max\n",
    "    x1=x_min\n",
    "\n",
    "    try : \n",
    "        \n",
    "        while abs(x5-x1) > precision:\n",
    "            \n",
    "            x3= (x5+x1)/2\n",
    "            x2= (x1+x3)/2\n",
    "            x4= (x3+x5)/2\n",
    "            \n",
    "            \n",
    "            if  f(x1)< f(x2)< f(x3)<f(x4)<f(x5):\n",
    "                x5=x2\n",
    "        \n",
    "            elif f(x1)> f(x2)< f(x3)<f(x4)<f(x5):\n",
    "                x5=x3\n",
    "                \n",
    "            elif f(x1)> f(x2)> f(x3)<f(x4)<f(x5):\n",
    "                x5=x4\n",
    "                x1=x2\n",
    "                \n",
    "            elif f(x1)> f(x2)> f(x3)>f(x4)<f(x5):\n",
    "                x1=x3\n",
    "                \n",
    "            elif f(x1)> f(x2)> f(x3)>f(x4)>f(x5):\n",
    "                x1=x4\n",
    "          \n",
    "            borne_max=np.append(borne_max,[[x5],[f(x5)]],axis=1)\n",
    "            borne_min=np.append(borne_min,[[x1],[f(x1)]],axis=1)\n",
    "        \n",
    "            \n",
    "            n+=1\n",
    "            \n",
    "    except : \n",
    "        i= \"FALSE\"\n",
    "    return borne_min,borne_max,n,i"
   ]
  },
  {
   "cell_type": "code",
   "execution_count": 4,
   "metadata": {},
   "outputs": [],
   "source": [
    "#%% Recherche du minimum de f1 sur l'intervalle [-4,4]\n",
    "x_min = -4\n",
    "x_max = +4\n",
    "\n",
    "precision1 = 1e-1\n",
    "precision2 = 1e-2"
   ]
  },
  {
   "cell_type": "code",
   "execution_count": 5,
   "metadata": {},
   "outputs": [
    {
     "data": {
      "text/plain": [
       "(array([[-4.        , -4.        , -2.        , -2.        , -1.75      ,\n",
       "         -1.625     , -1.5       , -1.46875   ],\n",
       "        [14.29761747, 14.29761747, -5.36508199, -5.36508199, -6.32540163,\n",
       "         -6.59909438, -6.73246491, -6.74385797]]),\n",
       " array([[ 4.        ,  0.        ,  0.        , -1.        , -1.25      ,\n",
       "         -1.375     , -1.375     , -1.40625   ],\n",
       "        [19.70238253,  1.        ,  1.        , -5.89029689, -6.58039234,\n",
       "         -6.7256264 , -6.7256264 , -6.74041033]]),\n",
       " 7,\n",
       " 'TRUE')"
      ]
     },
     "execution_count": 5,
     "metadata": {},
     "output_type": "execute_result"
    }
   ],
   "source": [
    "# METHODE minimumDichotomie A CREER\n",
    "bornes_min, bornes_max, n_iter, i_err = minimumDichotomie(f1,x_min,x_max,precision1)\n",
    "bornes_min, bornes_max, n_iter, i_err"
   ]
  },
  {
   "cell_type": "markdown",
   "metadata": {},
   "source": [
    "### Analyser son comportement pour différentes précisions: \n",
    "\n",
    "On a realiser une fonction minimumDichotomie qui nous renvoie les liste des bornes inférieures et supérieures des intervalles successifs de la methode de dichotomie ainsi que le nombre d'iteration necessaire pour atteindre une precision precise.\n",
    "\n",
    "On remarque donc que pour atteindre une precision de 0.1 avec la methode de dichotomie il eut fallu 7 itterations et 10 pour une precision de 0.01"
   ]
  },
  {
   "cell_type": "code",
   "execution_count": 8,
   "metadata": {},
   "outputs": [
    {
     "data": {
      "text/plain": [
       "(array([[-2.        , -2.        , -2.        , -1.75      , -1.625     ,\n",
       "         -1.5625    , -1.5       ],\n",
       "        [-8.09297427, -8.09297427, -8.09297427, -9.27735947, -9.59468841,\n",
       "         -9.68324961, -9.72494987]]),\n",
       " array([[ 2.        ,  0.        , -1.        , -1.25      , -1.375     ,\n",
       "         -1.4375    , -1.4375    ],\n",
       "        [18.09297427,  1.        , -8.41470985, -9.42734619, -9.66830557,\n",
       "         -9.71988566, -9.71988566]]),\n",
       " 6,\n",
       " 'TRUE')"
      ]
     },
     "execution_count": 8,
     "metadata": {},
     "output_type": "execute_result"
    }
   ],
   "source": [
    "#Definition des bornes pour la fonction 2\n",
    "x_min2= -2\n",
    "x_max2= +2\n",
    "precision1 = 1e-1\n",
    "precision2 = 1e-2\n",
    "# METHODE minimumDichotomie A CREER\n",
    "bornes_min2, bornes_max2, n_iter2, i_err2 = minimumDichotomie(f2,x_min2,x_max2,precision1)\n",
    "bornes_min2, bornes_max2, n_iter2, i_err2"
   ]
  },
  {
   "cell_type": "markdown",
   "metadata": {},
   "source": [
    "### Analyser son comportement pour la fonction f2 : \n",
    "\n",
    "\n",
    "On a essayer notre programme une deuxieme fois avec la fonction 2 et on remarque que le programme prends longtemps à s'executer. Cela arrive car notre fonction 2 n'est pas unimodale sur l'interval d'ou [-4,+4].\n",
    "\n",
    "Si on réessaie mais cette fois ci on commence avec l'interval [-2,+2], on obtient bien des resultats.\n",
    "\n",
    "On en deduit donc que avant de d'executer notre methode de dichotomie on doit d'abord s'assurer que notre fonction est unimodale sur l'interval par ou on commence. \n",
    "\n",
    "La fonction 𝑓 est unimodale sur  𝑎, 𝑏 si elle dérivable, et que sa dérivée s’annule et change de \n",
    "signe en un point unique de l’intervalle, noté 𝑐."
   ]
  },
  {
   "cell_type": "code",
   "execution_count": 9,
   "metadata": {},
   "outputs": [],
   "source": [
    "x_min, y_min = bornes_min[0][-1], bornes_min[1][-1]\n",
    "x_max, y_max = bornes_max[0][-1], bornes_max[1][-1]"
   ]
  },
  {
   "cell_type": "code",
   "execution_count": 12,
   "metadata": {},
   "outputs": [
    {
     "data": {
      "text/plain": [
       "Text(1, -5, 'Precision = 0.1\\nCV en 7 iterations\\nBorne inférieure :\\n  x_min = -1.4688\\n  y_min = -6.7439\\nBorne supérieure :\\n  x_max = -1.4062\\n  y_max = -6.7404')"
      ]
     },
     "execution_count": 12,
     "metadata": {},
     "output_type": "execute_result"
    },
    {
     "data": {
      "image/png": "[encoded data removed]",
      "text/plain": [
       "<Figure size 432x288 with 1 Axes>"
      ]
     },
     "metadata": {},
     "output_type": "display_data"
    }
   ],
   "source": [
    "# Visualisation des résultats\n",
    "plt.plot(bornes_min[0],bornes_min[1],'rs', label = 'x_min')\n",
    "plt.plot(bornes_max[0],bornes_max[1],'bs', label = 'x_max')\n",
    "plt.legend()\n",
    "plt.xlabel('Valeurs de $x$')\n",
    "plt.ylabel('Valeurs de $f_1(x)$')\n",
    "plt.title('Recherche du minimum de $f_1$ par dichotomie')\n",
    "plt.grid()\n",
    "\n",
    "message = 'Precision = {}'.format(precision1)\n",
    "message += '\\nCV en {} iterations'.format(n_iter)\n",
    "message += '\\nBorne inférieure :'\n",
    "message += '\\n  x_min = {:6.4f}'.format(x_min)\n",
    "message += '\\n  y_min = {:6.4f}'.format(y_min)\n",
    "message += '\\nBorne supérieure :'\n",
    "message += '\\n  x_max = {:6.4f}'.format(x_max)\n",
    "message += '\\n  y_max = {:6.4f}'.format(y_max)\n",
    "plt.text(1,-5,message)\n"
   ]
  },
  {
   "cell_type": "markdown",
   "metadata": {},
   "source": [
    "## *2.* Recherche du minimum d’une fonction par la méthode de Newton :"
   ]
  },
  {
   "cell_type": "markdown",
   "metadata": {},
   "source": [
    "### Programme de test de la recherche de minimum par méthode de Newton"
   ]
  },
  {
   "cell_type": "code",
   "execution_count": 13,
   "metadata": {},
   "outputs": [],
   "source": [
    "#Definition des derivées de notre fonction\n",
    "\n",
    "#Definition de la derivée 1\n",
    "\n",
    "def df1(x):\n",
    "    return 2*x+2+7*np.cos(x)\n",
    "\n",
    "#Definition de la derivée 2\n",
    "\n",
    "def df2(x):\n",
    "    return 2-7*np.sin(x)"
   ]
  },
  {
   "cell_type": "code",
   "execution_count": 14,
   "metadata": {},
   "outputs": [],
   "source": [
    "# Creation de la fonction minimumNewton\n",
    "def minimumNewton(f,df1,df2,x0,precision,nmax):\n",
    "    xn,xn1=x0,x0+df1(x0)/df2(x0) \n",
    "    n=0\n",
    "    i=\"TRUE\"\n",
    "    try : \n",
    "        while abs(xn1-xn)>=precision and n<nmax :\n",
    "            xn=xn1\n",
    "            xn1=xn-df1(xn)/df2(xn) \n",
    "            \n",
    "            n+=1\n",
    "    except : \n",
    "        i= \"FALSE\"\n",
    "    return f(xn1),xn1,n,i"
   ]
  },
  {
   "cell_type": "code",
   "execution_count": 16,
   "metadata": {},
   "outputs": [
    {
     "data": {
      "text/plain": [
       "(-6.746669208809859, -1.4436866942189517, 3, 'TRUE')"
      ]
     },
     "execution_count": 16,
     "metadata": {},
     "output_type": "execute_result"
    }
   ],
   "source": [
    "\n",
    "x0,x1,x2=0,-1,-1.3\n",
    "nmax=100000\n",
    "precision1 = 1e-1\n",
    "precision2 = 1e-4\n",
    "minimumNewton(f1,df1,df2,x2,precision2,nmax)"
   ]
  },
  {
   "cell_type": "markdown",
   "metadata": {},
   "source": [
    "### Analyser son comportement pour différents points de departs et différentes précisions: \n",
    "\n",
    "On a realiser une fonction minimumDNewton qui nous renvoie la solution trouvée, ainsi que le nombre d'iteration necessaire pour atteindre une precision precise.\n",
    "\n",
    "On remarque donc que pour atteindre une precision de 0.1 avec la methode de Newton :\n",
    "\n",
    "En démarrant de la postion x0=0 il eut fallu 5 itterations.\n",
    "\n",
    "En démarrant de la postion x1=-1 il eut fallu 3 itterations.\n",
    "\n",
    "En démarrant de la postion x2=-1.3 il eut fallu 2 itterations.\n",
    "\n",
    "\n",
    "\n",
    "On remarque aussi que pour atteindre une precision de 0.0001 avec la methode de Newton :\n",
    "\n",
    "En démarrant de la postion x0=0 il eut fallu 6 itterations.\n",
    "\n",
    "En démarrant de la postion x1=-1 il eut fallu 4 itterations.\n",
    "\n",
    "En démarrant de la postion x2=-1.3 il eut fallu 3 itterations.\n",
    "\n",
    "\n",
    "On en conclut donc que : \n",
    "\n",
    "La methode de Newton est très efficace quand on démmare au voisinage de la solution du coup il faut bien choisir son point de depart\n",
    "\n"
   ]
  },
  {
   "cell_type": "markdown",
   "metadata": {},
   "source": [
    "### Analyse comparative de la méthode de dichotomie et de la méthode de Newton\n",
    "\n",
    "On remarque d'apres nos resultats que la méthode de Newton est puissante et trés rapide, mais elle nécessite d’avoir accès aux dérivées d’ordre 1 et 2 de la fonction à minimiser. Ces dérivées peuvent ne pas être disponibles.\n",
    "mais aussi que pour que la methode de Newton soit efficace on doit partir d'un point relativement proche de la solution, ou au moins dans une région où la fonction est localement convexe.\n",
    "\n",
    "Pour la methode de dichotomie elle est beaucoup plus basique et sure, mais moins rapide et necessite que la fonction soit unimodal sur l'interval de debut.\n",
    "\n",
    "Comme on a vu en cours on peut toujours combiner la recherche par dichotomie pour réduire l’intervalle de recherche de la solution, puis recherché par Newton quand on n’est plus très éloigné de la solution.\n"
   ]
  },
  {
   "cell_type": "code",
   "execution_count": null,
   "metadata": {},
   "outputs": [],
   "source": []
  }
 ],
 "metadata": {
  "kernelspec": {
   "display_name": "Python 3",
   "language": "python",
   "name": "python3"
  },
  "language_info": {
   "codemirror_mode": {
    "name": "ipython",
    "version": 3
   },
   "file_extension": ".py",
   "mimetype": "text/x-python",
   "name": "python",
   "nbconvert_exporter": "python",
   "pygments_lexer": "ipython3",
   "version": "3.6.2"
  }
 },
 "nbformat": 4,
 "nbformat_minor": 2
}
